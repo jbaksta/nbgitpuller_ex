{
 "cells": [
  {
   "cell_type": "code",
   "execution_count": 1,
   "id": "b3bcd647-d805-4104-8e52-c999a73054c7",
   "metadata": {},
   "outputs": [],
   "source": [
    "import os"
   ]
  },
  {
   "cell_type": "code",
   "execution_count": 2,
   "id": "3e98adc2-db39-468f-8772-ce816cb09670",
   "metadata": {},
   "outputs": [],
   "source": [
    "import sys"
   ]
  },
  {
   "cell_type": "code",
   "execution_count": 3,
   "id": "b27f603c-6207-4d8f-ad36-04417efe9e28",
   "metadata": {},
   "outputs": [
    {
     "name": "stdout",
     "output_type": "stream",
     "text": [
      "This is just a simple test.\n"
     ]
    }
   ],
   "source": [
    "print(\"This is just a simple test.\")"
   ]
  },
  {
   "cell_type": "code",
   "execution_count": 4,
   "id": "d0d7d519-4cf9-4caa-83c4-46a1fbfdaa2b",
   "metadata": {},
   "outputs": [
    {
     "name": "stdout",
     "output_type": "stream",
     "text": [
      "\n",
      "Please wait a moment while I gather a list of all available modules...\n",
      "\n"
     ]
    },
    {
     "name": "stderr",
     "output_type": "stream",
     "text": [
      "/ncar/usr/jupyterhub.hpc.ucar.edu/jupyterhub-20220325/lib/python3.9/pkgutil.py:93: UserWarning: The numpy.array_api submodule is still experimental. See NEP 47.\n",
      "  __import__(info.name)\n",
      "/ncar/usr/jupyterhub.hpc.ucar.edu/jupyterhub-20220325/lib/python3.9/site-packages/_distutils_hack/__init__.py:30: UserWarning: Setuptools is replacing distutils.\n",
      "  warnings.warn(\"Setuptools is replacing distutils.\")\n"
     ]
    },
    {
     "name": "stdout",
     "output_type": "stream",
     "text": [
      "IPython             bokeh               jupyter_client      pyrsistent\n",
      "OpenSSL             brotli              jupyter_core        pythonjsonlogger\n",
      "PIL                 bs4                 jupyter_packaging   pytz\n",
      "__future__          builtins            jupyter_resource_usage pyuv\n",
      "_abc                bz2                 jupyter_server      pyviz_comms\n",
      "_aix_support        cProfile            jupyter_server_mathjax queue\n",
      "_argon2_cffi_bindings calendar            jupyter_server_proxy quopri\n",
      "_ast                certifi             jupyter_telemetry   random\n",
      "_asyncio            certipy             jupyterhub          re\n",
      "_bisect             cffi                jupyterhub_idle_culler readline\n",
      "_blake2             cfgv                jupyterlab          reprlib\n",
      "_bootlocale         cgi                 jupyterlab-mathjax3 requests\n",
      "_bootsubprocess     cgitb               jupyterlab_code_formatter resource\n",
      "_bz2                chardet             jupyterlab_git      rich\n",
      "_cffi_backend       charset_normalizer  jupyterlab_latex    rlcompleter\n",
      "_codecs             chunk               jupyterlab_ncar_menu ruamel_yaml\n",
      "_codecs_cn          click               jupyterlab_nvdashboard runpy\n",
      "_codecs_hk          cloudpickle         jupyterlab_pygments rx\n",
      "_codecs_iso2022     cmath               jupyterlab_recents  sched\n",
      "_codecs_jp          cmd                 jupyterlab_server   secrets\n",
      "_codecs_kr          code                jupyterlab_sublime  select\n",
      "_codecs_tw          codecs              jupyterlab_widgets  selectors\n",
      "_collections        codeop              jwt                 send2trash\n",
      "_collections_abc    collections         keyword             setuptools\n",
      "_compat_pickle      colorama            kiwisolver          shelve\n",
      "_compression        colorsys            lckr_jupyterlab_variableinspector shlex\n",
      "_contextvars        commonmark          lib2to3             shutil\n",
      "_crypt              compileall          libfuturize         signal\n",
      "_csv                concurrent          libpasteurize       simpervisor\n",
      "_ctypes             conda               linecache           site\n",
      "_ctypes_test        conda_env           locale              six\n",
      "_curses             conda_package_handling locket              smmap\n",
      "_curses_panel       configparser        logging             smtpd\n",
      "_datetime           contextlib          lzma                smtplib\n",
      "_decimal            contextvars         mailbox             sndhdr\n",
      "_distutils_hack     copy                mailcap             sniffio\n",
      "_elementtree        copyreg             mako                socket\n",
      "_functools          coverage            markdown            socketserver\n",
      "_hashlib            crypt               markupsafe          socks\n",
      "_heapq              cryptography        marshal             sockshandler\n",
      "_imp                csv                 math                sortedcontainers\n",
      "_io                 ctypes              matplotlib          soupsieve\n",
      "_json               curl                matplotlib_inline   spwd\n",
      "_locale             curses              mccabe              sqlalchemy\n",
      "_lsprof             cycler              mimetypes           sqlite3\n",
      "_lzma               cylc_ext            mistune             sre_compile\n",
      "_markupbase         cytoolz             mmap                sre_constants\n",
      "_md5                dask                mock                sre_parse\n",
      "_multibytecodec     dask_labextension   modulefinder        sshspawner\n",
      "_multiprocessing    dataclasses         msgpack             ssl\n",
      "_opcode             datetime            multidict           stack_data\n",
      "_operator           dateutil            multiprocessing     stat\n",
      "_osx_support        dbm                 munkres             statistics\n",
      "_peg_parser         debugpy             nb_conda_kernels    statsd\n",
      "_pickle             decimal             nbclassic           string\n",
      "_posixshmem         decorator           nbclient            stringprep\n",
      "_posixsubprocess    defusedxml          nbconvert           struct\n",
      "_py_abc             deprecation         nbdime              subprocess\n",
      "_pydecimal          difflib             nbformat            sunau\n",
      "_pyio               dis                 nbgitpuller         symbol\n",
      "_pylibmc            distlib             nbviewer            symtable\n",
      "_pyrsistent_version distributed         nest_asyncio        sys\n",
      "_queue              distutils           netrc               sysconfig\n",
      "_random             doctest             newrelic            syslog\n",
      "_ruamel_yaml        editor              nis                 tabnanny\n",
      "_sha1               elastic_transport   nntplib             tarfile\n",
      "_sha256             elasticsearch       nodeenv             tblib\n",
      "_sha3               email               nose                telnetlib\n",
      "_sha512             encodings           notebook            tempfile\n",
      "_signal             ensurepip           notebook_shim       terminado\n",
      "_sitebuiltins       entrypoints         ntpath              termios\n",
      "_socket             enum                nturl2path          test\n",
      "_sqlite3            errno               numbergen           test_pycosat\n",
      "_sre                examples            numbers             testpath\n",
      "_ssl                executing           numpy               tests\n",
      "_stat               faulthandler        oauthlib            textwrap\n",
      "_statistics         fcntl               olefile             this\n",
      "_string             filecmp             opcode              threading\n",
      "_strptime           fileinput           operator            time\n",
      "_struct             filelock            optparse            timeit\n",
      "_symtable           flake8              os                  tkinter\n",
      "_sysconfigdata__linux_x86_64-linux-gnu flit_core           ossaudiodev         tlz\n",
      "_sysconfigdata_x86_64_conda_cos6_linux_gnu fnmatch             packaging           token\n",
      "_sysconfigdata_x86_64_conda_linux_gnu fontTools           pamela              tokenize\n",
      "_testbuffer         formatter           pandas              toml\n",
      "_testcapi           fractions           pandocfilters       tomli\n",
      "_testimportmultiple frozenlist          panel               tomlkit\n",
      "_testinternalcapi   fsspec              param               toolz\n",
      "_testmultiphase     ftplib              parser              tornado\n",
      "_thread             functools           parso               tqdm\n",
      "_threading_local    future              partd               trace\n",
      "_tkinter            gc                  past                traceback\n",
      "_tracemalloc        genericpath         pathlib             tracemalloc\n",
      "_ukkonen            getopt              pdb                 traitlets\n",
      "_uuid               getpass             pexpect             tty\n",
      "_warnings           gettext             pickle              turtle\n",
      "_weakref            git                 pickleshare         turtledemo\n",
      "_weakrefset         gitdb               pickletools         types\n",
      "_xxsubinterpreters  glob                pip                 typing\n",
      "_xxtestfuzz         graphene            pipes               typing_extensions\n",
      "_yaml               graphene_tornado    pkg_resources       ukkonen\n",
      "_zoneinfo           graphlib            pkgutil             unicodedata\n",
      "abc                 graphql             platform            unicodedata2\n",
      "aifc                graphql_relay       platformdirs        unittest\n",
      "aiofiles            graphql_ws          plistlib            urllib\n",
      "aiohttp             greenlet            poplib              urllib3\n",
      "aiosignal           grp                 posix               urwid\n",
      "alembic             gzip                posixpath           uu\n",
      "aniso8601           hashlib             pprint              uuid\n",
      "ansimarkup          heapdict            pre_commit          venv\n",
      "antigravity         heapq               profile             virtualenv\n",
      "anyio               hmac                prometheus_client   warnings\n",
      "argon2              html                promise             wave\n",
      "argparse            http                prompt_toolkit      wcwidth\n",
      "array               identify            pstats              weakref\n",
      "ast                 idlelib             psutil              webbrowser\n",
      "asttokens           idna                pty                 webencodings\n",
      "async_generator     imaplib             ptyprocess          websocket\n",
      "async_timeout       imghdr              pure_eval           werkzeug\n",
      "asynchat            imp                 pvectorc            wheel\n",
      "asyncio             importlib           pwd                 widgetsnbextension\n",
      "asyncore            importlib_metadata  py_compile          wrapspawner\n",
      "asyncssh            importlib_resources pyclbr              wsgiref\n",
      "atexit              inspect             pycodestyle         xdrlib\n",
      "attr                invoke              pycosat             xml\n",
      "attrs               io                  pycparser           xmlrpc\n",
      "audioop             ipaddress           pyct                xxlimited\n",
      "babel               ipykernel           pycurl              xxsubtype\n",
      "backcall            ipykernel_launcher  pydantic            yaml\n",
      "backports           ipython_genutils    pydoc               yarl\n",
      "base64              ipywidgets          pydoc_data          zict\n",
      "batchspawner        itertools           pyexpat             zipapp\n",
      "bdb                 jedi                pyflakes            zipfile\n",
      "binascii            jinja2              pygments            zipimport\n",
      "binhex              json                pylab               zipp\n",
      "bisect              json5               pylibmc             zlib\n",
      "bleach              jsonschema          pynvml              zmq\n",
      "blinker             jupyter             pyparsing           zoneinfo\n",
      "\n",
      "Enter any module name to get more help.  Or, type \"modules spam\" to search\n",
      "for modules whose name or summary contain the string \"spam\".\n",
      "\n"
     ]
    },
    {
     "name": "stderr",
     "output_type": "stream",
     "text": [
      "/ncar/usr/jupyterhub.hpc.ucar.edu/jupyterhub-20220325/lib/python3.9/pkgutil.py:108: VisibleDeprecationWarning: zmq.eventloop.minitornado is deprecated in pyzmq 14.0 and will be removed.\n",
      "    Install tornado itself to use zmq with the tornado IOLoop.\n",
      "    \n",
      "  yield from walk_packages(path, info.name+'.', onerror)\n"
     ]
    }
   ],
   "source": [
    "help('modules')"
   ]
  },
  {
   "cell_type": "code",
   "execution_count": null,
   "id": "67a205f8-f1cf-4fe6-ac22-4df37770f84c",
   "metadata": {},
   "outputs": [],
   "source": []
  }
 ],
 "metadata": {
  "kernelspec": {
   "display_name": "Python 3 (ipykernel)",
   "language": "python",
   "name": "python3"
  },
  "language_info": {
   "codemirror_mode": {
    "name": "ipython",
    "version": 3
   },
   "file_extension": ".py",
   "mimetype": "text/x-python",
   "name": "python",
   "nbconvert_exporter": "python",
   "pygments_lexer": "ipython3",
   "version": "3.9.12"
  }
 },
 "nbformat": 4,
 "nbformat_minor": 5
}
